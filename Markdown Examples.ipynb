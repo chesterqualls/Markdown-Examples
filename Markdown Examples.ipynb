{
 "cells": [
  {
   "cell_type": "markdown",
   "metadata": {},
   "source": [
    "<br>\n",
    "<img src=\"https://sites.google.com/a/chesterqualls.com/chester-qualls-is-it/ChesterQualls%20Logo%28small%29.png?revision=2\">\n",
    "<br>\n",
    "***\n",
    "# Markdown Examples\n",
    "## Random examples below\n",
    "\n",
    "<div class=\"alert alert-block alert-info\">\n",
    "**Example of alert-info block\n",
    "<br>\n",
    "<b>Steps:</b>\n",
    "<ul class=\"fa-ul\">\n",
    "  <li><i class=\"fa-li fa fa-check-square\"></i>Pull in data from Website Table</li>\n",
    "  <li><i class=\"fa-li fa fa-check-square\"></i>Put it into Pandas</li>\n",
    "</ul>\n",
    "</div>\n",
    "> * Using code from https://towardsdatascience.com/web-scraping-html-tables-with-python-c9baba21059\n",
    "* And particularly from https://srome.github.io/Parsing-HTML-Tables-in-Python-with-BeautifulSoup-and-pandas/\n"
   ]
  },
  {
   "cell_type": "code",
   "execution_count": null,
   "metadata": {},
   "outputs": [],
   "source": []
  },
  {
   "cell_type": "markdown",
   "metadata": {},
   "source": [
    "<div class=\"alert alert-block alert-success\">\n",
    "**This is example of alert-success block\n",
    "***\n",
    "<h3>Export when rows are greater than below:</h3>\n",
    "<ul style=\"list-style-type:circle;\"><b>Conferences:</b>\n",
    "  <li>PWC— **192**</li>\n",
    "  <li>Data Centers— **33** </li>\n",
    "  <li>Office Industrial— **Coming Nov**</li>\n",
    "</ul>\n",
    "</div>\n"
   ]
  },
  {
   "cell_type": "code",
   "execution_count": null,
   "metadata": {},
   "outputs": [],
   "source": []
  },
  {
   "cell_type": "markdown",
   "metadata": {},
   "source": [
    "**Examples from** https://www.w3schools.com/icons/fontawesome_icons_intro.asp\n",
    "***\n",
    "<i class=\"fa fa-coffee fa-3x fa-pull-left fa-border\" style=\"color:green;\"></i>\n",
    "### Coffee Time \n",
    "After writing much code you may want to sit and drink a cup of coffee.\n",
    "\n",
    "<i class=\"fa fa-line-chart fa-3x fa-pull-left fa-border\" style=\"color:#990000;\"></i>\n",
    "<h3 style=\"color:#990000\">Charts Below</h3> \n",
    "A picture is worth a thousand words so it's now time to show you how the data looks.\n",
    "\n",
    "<table style=\"width:600px\">\n",
    "    <caption><h2>Examples in a Table</h2></caption>\n",
    "    <tr>\n",
    "    <td>I ♥ <i class=\"fa fa-battery-full\" style=\"font-size:20px;color:red\"></i></td>\n",
    "    <td><span class=\"fa-stack fa-3x\">\n",
    "  <i class=\"fa fa-circle-thin fa-stack-2x\" style=\"color:#003366;\"></i>\n",
    "  <i class=\"fa fa-camera fa-stack-1x\" style=\"color:gray;\"></i>\n",
    "</span></td>\n",
    "    <td><span class=\"fa-stack fa-2x\">\n",
    "  <i class=\"fa fa-beer fa-stack-1x\" style=\"color:black;\"></i>\n",
    "  <i class=\"fa fa-ban fa-stack-2x text-danger\" style=\"color:red;\"></i>\n",
    "</span></td> \n",
    "    </tr>\n",
    "    <tr>\n",
    "    <td>Basic Example</td>\n",
    "    <td>Stack fa Items #!</td>\n",
    "    <td>Stack fa Items #2</td>\n",
    "    </tr>\n",
    "</table>\n",
    "\n",
    "<i class=\"fa fa-spinner fa-pulse fa-2x fa-fw\"></i>\n",
    "\n",
    "<a class=\"btn btn-lg btn-success\" href=\"#\">\n",
    "  <i class=\"fa fa-flag fa-2x pull-left\"></i> Font Awesome<br>Version 4.7.0</a>\n",
    "  \n",
    "<a class=\"btn btn-lg btn-primary\">\n",
    "  <i class=\"fa fa-table fa-3x pull-left\"></i> <b>New Section to split pivot table</b> <br> for trx into annual sheets</a>\n",
    "  \n",
    "<a class=\"btn btn-lg btn-default\">\n",
    "  <i class=\"fa fa-cog fa-spin fa-3x fa-fw pull-left\"></i> <b>New Section to split pivot table</b> <br> for trx into annual sheets</a>"
   ]
  },
  {
   "cell_type": "code",
   "execution_count": null,
   "metadata": {},
   "outputs": [],
   "source": []
  },
  {
   "cell_type": "markdown",
   "metadata": {},
   "source": [
    "<div style=\"width:900px;background-color:#cccccc;border:20px solid #cccccc\">\n",
    "<font color='white'>\n",
    "    <h2>Example using &lt;div&gt; to create a markdown cell of any color!!!</h2>\n",
    "         <p>These can be stacked</p>\n",
    "         </font>\n",
    "</div>\n",
    "<div style=\"width:900px;background-color:#708238;border:10px dashed #8A9A59\">\n",
    "    <div style=\"background-color:#708238;border:10px solid #708238\"><font color=#cccccc>\n",
    "     <h2> Any Color!! </h2>\n",
    "            <p>  You can also get fancy with the border</p>\n",
    "            <p>  Or nest a couple &lt;div&gt; tags together</p></font><br>\n",
    "    </div>\n",
    "</div>"
   ]
  },
  {
   "cell_type": "code",
   "execution_count": null,
   "metadata": {},
   "outputs": [],
   "source": []
  },
  {
   "cell_type": "markdown",
   "metadata": {},
   "source": [
    "<div class=\"alert alert-block alert-danger\">\n",
    "<h3>Example of Red Block or alert-danger</h3> \n",
    "</div>"
   ]
  },
  {
   "cell_type": "markdown",
   "metadata": {},
   "source": [
    "<div class=\"alert alert-block alert-warning\">\n",
    "<h3>Example of Yellow Block or alert-warning</h3> \n",
    "</div>"
   ]
  },
  {
   "cell_type": "code",
   "execution_count": null,
   "metadata": {},
   "outputs": [],
   "source": []
  },
  {
   "cell_type": "code",
   "execution_count": 1,
   "metadata": {},
   "outputs": [
    {
     "name": "stdout",
     "output_type": "stream",
     "text": [
      "Finished\n"
     ]
    }
   ],
   "source": [
    "import icon\n",
    "print(\"Finished\")"
   ]
  },
  {
   "cell_type": "markdown",
   "metadata": {},
   "source": [
    "# Google Material Icon Examples\n",
    "\n",
    "<link rel=\"stylesheet\" href=\"https://fonts.googleapis.com/icon?family=Material+Icons\">\n",
    "      \n",
    "<i class=\"material-icons\">face</i>     \n",
    "<i class=\"material-icons\">face</i>\n"
   ]
  },
  {
   "cell_type": "code",
   "execution_count": null,
   "metadata": {},
   "outputs": [],
   "source": []
  },
  {
   "cell_type": "markdown",
   "metadata": {},
   "source": [
    "# LaTeX Code\n",
    "\n",
    "Here is a pretty good cheatsheet for LaTeX expressions (https://www.authorea.com/users/77723/articles/110898-how-to-write-mathematical-equations-expressions-and-symbols-with-latex-a-cheatsheet)\n",
    "\n",
    "Code can be done inline... $e^{i\\pi} + 1 = 0$, or $E=mc^2$, or more complex... $e^x=\\sum_{i=0}^\\infty \\frac{1}{i!}x^i$\n",
    "\n",
    "Or on it's own line\n",
    "$$e^x=\\sum_{i=0}^\\infty \\frac{1}{i!}x^i$$\n",
    "\n",
    "Found this example... $\\dot\\sigma = \\diffp{\\sigma}{{\\mathbf x}}\\overbrace{\\dot{\\mathbf x}}^{\\diff{\\mathbf x}{t}}\\bigl(\\mkern1.5mu\\overbrace{f(\\mathbf x, t) + B(t, \\mathbf x)\\mathbf u}^{\\dot{\\mathbf x}}\\mkern1.5mu \\bigr)$\n",
    "\n",
    "But it didn't match what it claimed so I fixed it...  $\\dot\\sigma = \\frac{\\partial\\sigma}{{\\partial\\mathbf x}}\\overbrace{\\dot{\\mathbf x}}^{\\frac{\\mathbf dx}{dt}}=\\frac{\\partial\\sigma}{{\\partial\\mathbf x}}\\bigl(\\mkern1.5mu\\overbrace{f(\\mathbf x, t) + B(t, \\mathbf x)\\mathbf u}^{\\dot{\\mathbf x}}\\mkern1.5mu \\bigr)$\n",
    "\n",
    "***\n",
    "**I have no idea what these mean**"
   ]
  }
 ],
 "metadata": {
  "kernelspec": {
   "display_name": "Python 3",
   "language": "python",
   "name": "python3"
  },
  "language_info": {
   "codemirror_mode": {
    "name": "ipython",
    "version": 3
   },
   "file_extension": ".py",
   "mimetype": "text/x-python",
   "name": "python",
   "nbconvert_exporter": "python",
   "pygments_lexer": "ipython3",
   "version": "3.6.9"
  }
 },
 "nbformat": 4,
 "nbformat_minor": 2
}
